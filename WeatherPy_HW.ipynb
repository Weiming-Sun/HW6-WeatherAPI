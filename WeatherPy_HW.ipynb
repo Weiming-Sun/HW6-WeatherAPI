{
 "cells": [
  {
   "cell_type": "code",
   "execution_count": 40,
   "metadata": {},
   "outputs": [],
   "source": [
    "# Dependencies\n",
    "import json\n",
    "import requests as req\n",
    "import matplotlib.pyplot as plt\n",
    "import pandas as pd\n",
    "import random"
   ]
  },
  {
   "cell_type": "code",
   "execution_count": 58,
   "metadata": {},
   "outputs": [],
   "source": [
    "# Define weather_result function\n",
    "\n",
    "def weather_json_function(lat, lon):\n",
    "    api_key = \"7f3ea21f4ed25571bd291209575db3b8\"\n",
    "    url = \"http://api.openweathermap.org/data/2.5/forecast?\"\n",
    "    units = \"imperial\"\n",
    "    weather_json = req.get(url + \"appid=\" + api_key + \"&lat=\" + str(lat) + \"&lon=\" + str(lon) + \"&units=\" + units).json()\n",
    "    if weather_json['city']['coord'] != {}:\n",
    "        result = [weather_json['city']['name'], \n",
    "                  weather_json['city']['country'],\n",
    "                  weather_json[\"list\"][0][\"dt\"], \n",
    "                  lat,\n",
    "                  lon,\n",
    "                  weather_json[\"list\"][0][\"main\"][\"temp_max\"], \n",
    "                  weather_json[\"list\"][0][\"main\"][\"humidity\"], \n",
    "                  weather_json[\"list\"][0][\"clouds\"][\"all\"],\n",
    "                  weather_json[\"list\"][0][\"wind\"][\"speed\"]]\n",
    "    else:\n",
    "        result = []\n",
    "    return result"
   ]
  },
  {
   "cell_type": "code",
   "execution_count": 59,
   "metadata": {},
   "outputs": [
    {
     "name": "stdout",
     "output_type": "stream",
     "text": [
      "-17.84433 15.739015\n",
      "['Ongwediva', 'NA', 1513555200, -17.84433, 15.739015, 71.19, 75, 88, 4.05]\n"
     ]
    }
   ],
   "source": [
    "lat = -17.844330\n",
    "lon = 15.739015\n",
    "print(lat, lon)\n",
    "result = weather_json_function(lat, lon)\n",
    "print(result)"
   ]
  },
  {
   "cell_type": "code",
   "execution_count": null,
   "metadata": {
    "collapsed": true
   },
   "outputs": [],
   "source": []
  }
 ],
 "metadata": {
  "kernelspec": {
   "display_name": "Python 3",
   "language": "python",
   "name": "python3"
  },
  "language_info": {
   "codemirror_mode": {
    "name": "ipython",
    "version": 3
   },
   "file_extension": ".py",
   "mimetype": "text/x-python",
   "name": "python",
   "nbconvert_exporter": "python",
   "pygments_lexer": "ipython3",
   "version": "3.6.3"
  }
 },
 "nbformat": 4,
 "nbformat_minor": 2
}
